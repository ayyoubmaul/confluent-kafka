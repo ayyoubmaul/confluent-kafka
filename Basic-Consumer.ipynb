{
 "cells": [
  {
   "cell_type": "markdown",
   "metadata": {
    "id": "moN3jlYSu8Ra"
   },
   "source": [
    "## Install Library"
   ]
  },
  {
   "cell_type": "code",
   "execution_count": 1,
   "metadata": {
    "colab": {
     "base_uri": "https://localhost:8080/"
    },
    "executionInfo": {
     "elapsed": 10270,
     "status": "ok",
     "timestamp": 1683359644481,
     "user": {
      "displayName": "Wildan Ghiffarie Budhi",
      "userId": "00128476889176701587"
     },
     "user_tz": -420
    },
    "id": "InzBZPbFuG9s",
    "outputId": "6322d0f3-54e2-4877-90a3-50c12e140dc1"
   },
   "outputs": [
    {
     "name": "stdout",
     "output_type": "stream",
     "text": [
      "Requirement already satisfied: confluent-kafka in /Users/ayyoub/gitrepo/project/.venv/lib/python3.12/site-packages (2.8.2)\n",
      "\n",
      "\u001b[1m[\u001b[0m\u001b[34;49mnotice\u001b[0m\u001b[1;39;49m]\u001b[0m\u001b[39;49m A new release of pip is available: \u001b[0m\u001b[31;49m24.3.1\u001b[0m\u001b[39;49m -> \u001b[0m\u001b[32;49m25.0.1\u001b[0m\n",
      "\u001b[1m[\u001b[0m\u001b[34;49mnotice\u001b[0m\u001b[1;39;49m]\u001b[0m\u001b[39;49m To update, run: \u001b[0m\u001b[32;49mpip install --upgrade pip\u001b[0m\n"
     ]
    }
   ],
   "source": [
    "!pip install confluent-kafka"
   ]
  },
  {
   "cell_type": "markdown",
   "metadata": {
    "id": "WnJF5HQivI6a"
   },
   "source": [
    "# Code"
   ]
  },
  {
   "cell_type": "code",
   "execution_count": 2,
   "metadata": {
    "executionInfo": {
     "elapsed": 7,
     "status": "ok",
     "timestamp": 1683359644482,
     "user": {
      "displayName": "Wildan Ghiffarie Budhi",
      "userId": "00128476889176701587"
     },
     "user_tz": -420
    },
    "id": "aE2UapbkvWkQ"
   },
   "outputs": [],
   "source": [
    "from confluent_kafka import Consumer"
   ]
  },
  {
   "cell_type": "code",
   "execution_count": 3,
   "metadata": {
    "executionInfo": {
     "elapsed": 6,
     "status": "ok",
     "timestamp": 1683359644482,
     "user": {
      "displayName": "Wildan Ghiffarie Budhi",
      "userId": "00128476889176701587"
     },
     "user_tz": -420
    },
    "id": "r9THxyYWvB7O"
   },
   "outputs": [],
   "source": [
    "# get the config value from Confluent Cloud console\n",
    "\n",
    "config = {\n",
    "    \"bootstrap.servers\" : \"pkc-oz2po.ap-southeast-3.aws.confluent.cloud:9092\",\n",
    "    \"security.protocol\" : \"SASL_SSL\",\n",
    "    \"sasl.mechanisms\" : \"PLAIN\",\n",
    "    \"sasl.username\" : \"5T5EZIB4DSFO6DNA\",\n",
    "    \"sasl.password\" : \"ykCjuJhLfy8ZPJV7fNfXv3AyjGqzZ1QAL1Pvejle6bEgHGO/Rzh6GtxbR5uObvLZ\",\n",
    "    \"group.id\" : \"python-group-1\",\n",
    "    \"auto.offset.reset\" : \"earliest\"\n",
    "}"
   ]
  },
  {
   "cell_type": "code",
   "execution_count": null,
   "metadata": {},
   "outputs": [],
   "source": [
    "=== Confluent Cloud API key: lkc-mkd8ww ===\n",
    "\n",
    "API key:\n",
    "DUDX5RJ6K4OAUET6\n",
    "\n",
    "API secret:\n",
    "sHmRZMvkDWSgPsx68EA/dTCokagPJ0Xvrhey/iF9ej66AE33+jsDIv5ydpM/5Mgi\n",
    "\n",
    "Bootstrap server:\n",
    "pkc-ew3qg.asia-southeast2.gcp.confluent.cloud:9092"
   ]
  },
  {
   "cell_type": "code",
   "execution_count": 4,
   "metadata": {
    "executionInfo": {
     "elapsed": 1,
     "status": "ok",
     "timestamp": 1683359691287,
     "user": {
      "displayName": "Wildan Ghiffarie Budhi",
      "userId": "00128476889176701587"
     },
     "user_tz": -420
    },
    "id": "_6sypUIUvQ8B"
   },
   "outputs": [
    {
     "name": "stderr",
     "output_type": "stream",
     "text": [
      "%6|1742634290.201|GETSUBSCRIPTIONS|rdkafka#consumer-1| [thrd:main]: Telemetry client instance id changed from AAAAAAAAAAAAAAAAAAAAAA to 3H24jyanSrSzWdBp+LB9wQ\n"
     ]
    }
   ],
   "source": [
    "consumer = Consumer(config)"
   ]
  },
  {
   "cell_type": "code",
   "execution_count": null,
   "metadata": {
    "colab": {
     "base_uri": "https://localhost:8080/"
    },
    "id": "dQwN6Tgkvcsk",
    "outputId": "f69d9cda-cebe-4d10-c9b8-c0c4fab1072b"
   },
   "outputs": [
    {
     "name": "stdout",
     "output_type": "stream",
     "text": [
      "key =              value = {\"product_category_name\": \"beleza_saude\", \"product_category_name_english\": \"health_beauty\"}\n",
      "key =              value = {\"product_category_name\": \"beleza_saude\", \"product_category_name_english\": \"health_beauty\"}\n",
      "key =              value = {\"product_category_name\": \"informatica_acessorios\", \"product_category_name_english\": \"computers_accessories\"}\n",
      "key =              value = {\"product_category_name\": \"automotivo\", \"product_category_name_english\": \"auto\"}\n",
      "key =              value = {\"product_category_name\": \"cama_mesa_banho\", \"product_category_name_english\": \"bed_bath_table\"}\n",
      "key =              value = {\"product_category_name\": \"moveis_decoracao\", \"product_category_name_english\": \"furniture_decor\"}\n",
      "key =              value = {\"product_category_name\": \"esporte_lazer\", \"product_category_name_english\": \"sports_leisure\"}\n",
      "key =              value = {\"product_category_name\": \"perfumaria\", \"product_category_name_english\": \"perfumery\"}\n",
      "key =              value = {\"product_category_name\": \"utilidades_domesticas\", \"product_category_name_english\": \"housewares\"}\n",
      "key =              value = {\"product_category_name\": \"telefonia\", \"product_category_name_english\": \"telephony\"}\n",
      "key =              value = {\"product_category_name\": \"relogios_presentes\", \"product_category_name_english\": \"watches_gifts\"}\n",
      "key =              value = {\"product_category_name\": \"alimentos_bebidas\", \"product_category_name_english\": \"food_drink\"}\n",
      "key =              value = {\"product_category_name\": \"bebes\", \"product_category_name_english\": \"baby\"}\n",
      "key =              value = {\"product_category_name\": \"papelaria\", \"product_category_name_english\": \"stationery\"}\n",
      "key =              value = {\"product_category_name\": \"tablets_impressao_imagem\", \"product_category_name_english\": \"tablets_printing_image\"}\n",
      "key =              value = {\"product_category_name\": \"brinquedos\", \"product_category_name_english\": \"toys\"}\n",
      "key =              value = {\"product_category_name\": \"telefonia_fixa\", \"product_category_name_english\": \"fixed_telephony\"}\n",
      "key =              value = {\"product_category_name\": \"ferramentas_jardim\", \"product_category_name_english\": \"garden_tools\"}\n",
      "key =              value = {\"product_category_name\": \"fashion_bolsas_e_acessorios\", \"product_category_name_english\": \"fashion_bags_accessories\"}\n",
      "key =              value = {\"product_category_name\": \"eletroportateis\", \"product_category_name_english\": \"small_appliances\"}\n",
      "key =              value = {\"product_category_name\": \"consoles_games\", \"product_category_name_english\": \"consoles_games\"}\n",
      "key =              value = {\"product_category_name\": \"audio\", \"product_category_name_english\": \"audio\"}\n",
      "key =              value = {\"product_category_name\": \"fashion_calcados\", \"product_category_name_english\": \"fashion_shoes\"}\n",
      "key =              value = {\"product_category_name\": \"cool_stuff\", \"product_category_name_english\": \"cool_stuff\"}\n",
      "key =              value = {\"product_category_name\": \"malas_acessorios\", \"product_category_name_english\": \"luggage_accessories\"}\n",
      "key =              value = {\"product_category_name\": \"climatizacao\", \"product_category_name_english\": \"air_conditioning\"}\n",
      "key =              value = {\"product_category_name\": \"construcao_ferramentas_construcao\", \"product_category_name_english\": \"construction_tools_construction\"}\n",
      "key =              value = {\"product_category_name\": \"moveis_cozinha_area_de_servico_jantar_e_jardim\", \"product_category_name_english\": \"kitchen_dining_laundry_garden_furniture\"}\n",
      "key =              value = {\"product_category_name\": \"construcao_ferramentas_jardim\", \"product_category_name_english\": \"costruction_tools_garden\"}\n",
      "key =              value = {\"product_category_name\": \"fashion_roupa_masculina\", \"product_category_name_english\": \"fashion_male_clothing\"}\n",
      "key =              value = {\"product_category_name\": \"pet_shop\", \"product_category_name_english\": \"pet_shop\"}\n",
      "key =              value = {\"product_category_name\": \"moveis_escritorio\", \"product_category_name_english\": \"office_furniture\"}\n",
      "key =              value = {\"product_category_name\": \"market_place\", \"product_category_name_english\": \"market_place\"}\n",
      "key =              value = {\"product_category_name\": \"eletronicos\", \"product_category_name_english\": \"electronics\"}\n",
      "key =              value = {\"product_category_name\": \"eletrodomesticos\", \"product_category_name_english\": \"home_appliances\"}\n",
      "key =              value = {\"product_category_name\": \"artigos_de_festas\", \"product_category_name_english\": \"party_supplies\"}\n",
      "key =              value = {\"product_category_name\": \"casa_conforto\", \"product_category_name_english\": \"home_confort\"}\n",
      "key =              value = {\"product_category_name\": \"construcao_ferramentas_ferramentas\", \"product_category_name_english\": \"costruction_tools_tools\"}\n",
      "key =              value = {\"product_category_name\": \"agro_industria_e_comercio\", \"product_category_name_english\": \"agro_industry_and_commerce\"}\n",
      "key =              value = {\"product_category_name\": \"moveis_colchao_e_estofado\", \"product_category_name_english\": \"furniture_mattress_and_upholstery\"}\n",
      "key =              value = {\"product_category_name\": \"livros_tecnicos\", \"product_category_name_english\": \"books_technical\"}\n",
      "key =              value = {\"product_category_name\": \"casa_construcao\", \"product_category_name_english\": \"home_construction\"}\n",
      "key =              value = {\"product_category_name\": \"instrumentos_musicais\", \"product_category_name_english\": \"musical_instruments\"}\n",
      "key =              value = {\"product_category_name\": \"moveis_sala\", \"product_category_name_english\": \"furniture_living_room\"}\n",
      "key =              value = {\"product_category_name\": \"construcao_ferramentas_iluminacao\", \"product_category_name_english\": \"construction_tools_lights\"}\n",
      "key =              value = {\"product_category_name\": \"industria_comercio_e_negocios\", \"product_category_name_english\": \"industry_commerce_and_business\"}\n",
      "key =              value = {\"product_category_name\": \"alimentos\", \"product_category_name_english\": \"food\"}\n",
      "key =              value = {\"product_category_name\": \"artes\", \"product_category_name_english\": \"art\"}\n",
      "key =              value = {\"product_category_name\": \"moveis_quarto\", \"product_category_name_english\": \"furniture_bedroom\"}\n",
      "key =              value = {\"product_category_name\": \"livros_interesse_geral\", \"product_category_name_english\": \"books_general_interest\"}\n",
      "key =              value = {\"product_category_name\": \"construcao_ferramentas_seguranca\", \"product_category_name_english\": \"construction_tools_safety\"}\n",
      "key =              value = {\"product_category_name\": \"fashion_underwear_e_moda_praia\", \"product_category_name_english\": \"fashion_underwear_beach\"}\n",
      "key =              value = {\"product_category_name\": \"fashion_esporte\", \"product_category_name_english\": \"fashion_sport\"}\n",
      "key =              value = {\"product_category_name\": \"sinalizacao_e_seguranca\", \"product_category_name_english\": \"signaling_and_security\"}\n",
      "key =              value = {\"product_category_name\": \"pcs\", \"product_category_name_english\": \"computers\"}\n",
      "key =              value = {\"product_category_name\": \"artigos_de_natal\", \"product_category_name_english\": \"christmas_supplies\"}\n",
      "key =              value = {\"product_category_name\": \"fashion_roupa_feminina\", \"product_category_name_english\": \"fashio_female_clothing\"}\n",
      "key =              value = {\"product_category_name\": \"eletrodomesticos_2\", \"product_category_name_english\": \"home_appliances_2\"}\n",
      "key =              value = {\"product_category_name\": \"livros_importados\", \"product_category_name_english\": \"books_imported\"}\n",
      "key =              value = {\"product_category_name\": \"bebidas\", \"product_category_name_english\": \"drinks\"}\n",
      "key =              value = {\"product_category_name\": \"cine_foto\", \"product_category_name_english\": \"cine_photo\"}\n",
      "key =              value = {\"product_category_name\": \"la_cuisine\", \"product_category_name_english\": \"la_cuisine\"}\n",
      "key =              value = {\"product_category_name\": \"musica\", \"product_category_name_english\": \"music\"}\n",
      "key =              value = {\"product_category_name\": \"casa_conforto_2\", \"product_category_name_english\": \"home_comfort_2\"}\n",
      "key =              value = {\"product_category_name\": \"portateis_casa_forno_e_cafe\", \"product_category_name_english\": \"small_appliances_home_oven_and_coffee\"}\n",
      "key =              value = {\"product_category_name\": \"cds_dvds_musicais\", \"product_category_name_english\": \"cds_dvds_musicals\"}\n",
      "key =              value = {\"product_category_name\": \"dvds_blu_ray\", \"product_category_name_english\": \"dvds_blu_ray\"}\n",
      "key =              value = {\"product_category_name\": \"flores\", \"product_category_name_english\": \"flowers\"}\n",
      "key =              value = {\"product_category_name\": \"artes_e_artesanato\", \"product_category_name_english\": \"arts_and_craftmanship\"}\n",
      "key =              value = {\"product_category_name\": \"fraldas_higiene\", \"product_category_name_english\": \"diapers_and_hygiene\"}\n",
      "key =              value = {\"product_category_name\": \"fashion_roupa_infanto_juvenil\", \"product_category_name_english\": \"fashion_childrens_clothes\"}\n",
      "key =              value = {\"product_category_name\": \"seguros_e_servicos\", \"product_category_name_english\": \"security_and_services\"}\n"
     ]
    }
   ],
   "source": [
    "consumer.subscribe([\"transactions\"])\n",
    "try:\n",
    "    while True:\n",
    "        msg = consumer.poll(1.0)\n",
    "        if msg is not None and msg.error() is None:\n",
    "            # process loading to NoSQL (MongoDB)\n",
    "            ########\n",
    "            print(\"key = {key:12} value = {value:12}\".format(key=msg.key().decode('utf-8'), value=msg.value().decode('utf-8')))\n",
    "except KeyboardInterrupt:\n",
    "      pass\n",
    "finally:\n",
    "       consumer.close()"
   ]
  },
  {
   "cell_type": "code",
   "execution_count": null,
   "metadata": {
    "id": "HBpXAGNuv5CM"
   },
   "outputs": [],
   "source": []
  }
 ],
 "metadata": {
  "colab": {
   "authorship_tag": "ABX9TyNpgf94Nrtrrdzqh+izUY9A",
   "provenance": []
  },
  "kernelspec": {
   "display_name": ".venv",
   "language": "python",
   "name": "python3"
  },
  "language_info": {
   "codemirror_mode": {
    "name": "ipython",
    "version": 3
   },
   "file_extension": ".py",
   "mimetype": "text/x-python",
   "name": "python",
   "nbconvert_exporter": "python",
   "pygments_lexer": "ipython3",
   "version": "3.12.3"
  }
 },
 "nbformat": 4,
 "nbformat_minor": 0
}
